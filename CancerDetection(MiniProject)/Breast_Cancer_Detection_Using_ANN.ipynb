{
 "cells": [
  {
   "cell_type": "markdown",
   "metadata": {},
   "source": [
    "Cancer Detection Using ANN     -By Mritunjay Choubey"
   ]
  },
  {
   "cell_type": "code",
   "execution_count": 1,
   "metadata": {
    "colab": {},
    "colab_type": "code",
    "id": "ofujTEq-gkgp"
   },
   "outputs": [],
   "source": [
    "# Author : @ Mritunjay Choubey.\n",
    "# Accuracy : 98.24561403508771\n",
    "\n",
    "#Importing libraries\n",
    "import numpy as np\n",
    "import matplotlib.pyplot as plt\n",
    "import pandas as pd\n",
    "from sklearn.preprocessing import LabelEncoder"
   ]
  },
  {
   "cell_type": "code",
   "execution_count": 2,
   "metadata": {
    "colab": {},
    "colab_type": "code",
    "id": "yzevKxmNg2jb"
   },
   "outputs": [],
   "source": [
    "dataset = pd.read_csv('data.csv')"
   ]
  },
  {
   "cell_type": "code",
   "execution_count": 3,
   "metadata": {
    "colab": {},
    "colab_type": "code",
    "id": "0cPmWxh0g5Hn"
   },
   "outputs": [],
   "source": [
    "y = dataset.iloc[:, 1].values\n",
    "label = LabelEncoder()\n",
    "y = label.fit_transform(y)"
   ]
  },
  {
   "cell_type": "code",
   "execution_count": 4,
   "metadata": {
    "colab": {},
    "colab_type": "code",
    "id": "DaREqSCQg7qw"
   },
   "outputs": [],
   "source": [
    "X = dataset.iloc[:, 2:-1].values"
   ]
  },
  {
   "cell_type": "code",
   "execution_count": 5,
   "metadata": {
    "colab": {},
    "colab_type": "code",
    "id": "mlBS3PoehDkc"
   },
   "outputs": [],
   "source": [
    "from sklearn.model_selection import train_test_split\n",
    "X_train, X_test, y_train, y_test = train_test_split(X, y, test_size = 0.2, random_state = 7)"
   ]
  },
  {
   "cell_type": "code",
   "execution_count": 6,
   "metadata": {
    "colab": {},
    "colab_type": "code",
    "id": "-FUD4nDthHC-"
   },
   "outputs": [],
   "source": [
    "\n",
    "#Feature Scaling \n",
    "from sklearn.preprocessing import StandardScaler\n",
    "sc_X = StandardScaler()\n",
    "X_train = sc_X.fit_transform(X_train)\n",
    "X_test = sc_X.transform(X_test)\n"
   ]
  },
  {
   "cell_type": "code",
   "execution_count": 7,
   "metadata": {
    "colab": {
     "base_uri": "https://localhost:8080/",
     "height": 34
    },
    "colab_type": "code",
    "id": "YVc1SZ6ThJKw",
    "outputId": "df4247af-011b-433b-c5d3-f0574fcc3b70"
   },
   "outputs": [
    {
     "name": "stderr",
     "output_type": "stream",
     "text": [
      "Using TensorFlow backend.\n"
     ]
    }
   ],
   "source": [
    "\n",
    "# Importing the Keras libraries and packages\n",
    "import keras\n",
    "from keras.models import Sequential\n",
    "from keras.layers import Dense\n"
   ]
  },
  {
   "cell_type": "code",
   "execution_count": 8,
   "metadata": {
    "colab": {},
    "colab_type": "code",
    "id": "7GfItzDHhMMV"
   },
   "outputs": [],
   "source": [
    "\n",
    "# Initialising the ANN\n",
    "classifier = Sequential()\n",
    "\n",
    "# Adding the input layer and the first hidden layer\n",
    "classifier.add(Dense(units = 6, kernel_initializer = 'uniform', activation = 'relu', input_dim = 30))\n"
   ]
  },
  {
   "cell_type": "code",
   "execution_count": 9,
   "metadata": {
    "colab": {},
    "colab_type": "code",
    "id": "ebFsPuJdhPei"
   },
   "outputs": [
    {
     "name": "stderr",
     "output_type": "stream",
     "text": [
      "WARNING: Logging before flag parsing goes to stderr.\n",
      "W0615 17:50:19.885117 16292 deprecation.py:323] From C:\\Users\\MritunjayChoubey\\Anaconda3\\lib\\site-packages\\tensorflow\\python\\ops\\nn_impl.py:180: add_dispatch_support.<locals>.wrapper (from tensorflow.python.ops.array_ops) is deprecated and will be removed in a future version.\n",
      "Instructions for updating:\n",
      "Use tf.where in 2.0, which has the same broadcast rule as np.where\n"
     ]
    }
   ],
   "source": [
    "classifier.add(Dense(units = 6, kernel_initializer = 'uniform', activation = 'relu'))\n",
    "\n",
    "# Adding the output layer\n",
    "classifier.add(Dense(units = 1, kernel_initializer = 'uniform', activation = 'sigmoid'))\n",
    "\n",
    "# Compiling the ANN\n",
    "classifier.compile(optimizer = 'adam', loss = 'binary_crossentropy', metrics = ['accuracy'])"
   ]
  },
  {
   "cell_type": "code",
   "execution_count": 10,
   "metadata": {
    "colab": {
     "base_uri": "https://localhost:8080/",
     "height": 232
    },
    "colab_type": "code",
    "id": "rbjn2y93hSUL",
    "outputId": "62c76d86-9a02-4e89-d6c2-618bb31a9244"
   },
   "outputs": [
    {
     "data": {
      "text/html": [
       "<div>\n",
       "<style scoped>\n",
       "    .dataframe tbody tr th:only-of-type {\n",
       "        vertical-align: middle;\n",
       "    }\n",
       "\n",
       "    .dataframe tbody tr th {\n",
       "        vertical-align: top;\n",
       "    }\n",
       "\n",
       "    .dataframe thead th {\n",
       "        text-align: right;\n",
       "    }\n",
       "</style>\n",
       "<table border=\"1\" class=\"dataframe\">\n",
       "  <thead>\n",
       "    <tr style=\"text-align: right;\">\n",
       "      <th></th>\n",
       "      <th>id</th>\n",
       "      <th>diagnosis</th>\n",
       "      <th>radius_mean</th>\n",
       "      <th>texture_mean</th>\n",
       "      <th>perimeter_mean</th>\n",
       "      <th>area_mean</th>\n",
       "      <th>smoothness_mean</th>\n",
       "      <th>compactness_mean</th>\n",
       "      <th>concavity_mean</th>\n",
       "      <th>concave points_mean</th>\n",
       "      <th>...</th>\n",
       "      <th>texture_worst</th>\n",
       "      <th>perimeter_worst</th>\n",
       "      <th>area_worst</th>\n",
       "      <th>smoothness_worst</th>\n",
       "      <th>compactness_worst</th>\n",
       "      <th>concavity_worst</th>\n",
       "      <th>concave points_worst</th>\n",
       "      <th>symmetry_worst</th>\n",
       "      <th>fractal_dimension_worst</th>\n",
       "      <th>Unnamed: 32</th>\n",
       "    </tr>\n",
       "  </thead>\n",
       "  <tbody>\n",
       "    <tr>\n",
       "      <th>0</th>\n",
       "      <td>842302</td>\n",
       "      <td>M</td>\n",
       "      <td>17.99</td>\n",
       "      <td>10.38</td>\n",
       "      <td>122.80</td>\n",
       "      <td>1001.0</td>\n",
       "      <td>0.11840</td>\n",
       "      <td>0.27760</td>\n",
       "      <td>0.3001</td>\n",
       "      <td>0.14710</td>\n",
       "      <td>...</td>\n",
       "      <td>17.33</td>\n",
       "      <td>184.60</td>\n",
       "      <td>2019.0</td>\n",
       "      <td>0.1622</td>\n",
       "      <td>0.6656</td>\n",
       "      <td>0.7119</td>\n",
       "      <td>0.2654</td>\n",
       "      <td>0.4601</td>\n",
       "      <td>0.11890</td>\n",
       "      <td>NaN</td>\n",
       "    </tr>\n",
       "    <tr>\n",
       "      <th>1</th>\n",
       "      <td>842517</td>\n",
       "      <td>M</td>\n",
       "      <td>20.57</td>\n",
       "      <td>17.77</td>\n",
       "      <td>132.90</td>\n",
       "      <td>1326.0</td>\n",
       "      <td>0.08474</td>\n",
       "      <td>0.07864</td>\n",
       "      <td>0.0869</td>\n",
       "      <td>0.07017</td>\n",
       "      <td>...</td>\n",
       "      <td>23.41</td>\n",
       "      <td>158.80</td>\n",
       "      <td>1956.0</td>\n",
       "      <td>0.1238</td>\n",
       "      <td>0.1866</td>\n",
       "      <td>0.2416</td>\n",
       "      <td>0.1860</td>\n",
       "      <td>0.2750</td>\n",
       "      <td>0.08902</td>\n",
       "      <td>NaN</td>\n",
       "    </tr>\n",
       "    <tr>\n",
       "      <th>2</th>\n",
       "      <td>84300903</td>\n",
       "      <td>M</td>\n",
       "      <td>19.69</td>\n",
       "      <td>21.25</td>\n",
       "      <td>130.00</td>\n",
       "      <td>1203.0</td>\n",
       "      <td>0.10960</td>\n",
       "      <td>0.15990</td>\n",
       "      <td>0.1974</td>\n",
       "      <td>0.12790</td>\n",
       "      <td>...</td>\n",
       "      <td>25.53</td>\n",
       "      <td>152.50</td>\n",
       "      <td>1709.0</td>\n",
       "      <td>0.1444</td>\n",
       "      <td>0.4245</td>\n",
       "      <td>0.4504</td>\n",
       "      <td>0.2430</td>\n",
       "      <td>0.3613</td>\n",
       "      <td>0.08758</td>\n",
       "      <td>NaN</td>\n",
       "    </tr>\n",
       "    <tr>\n",
       "      <th>3</th>\n",
       "      <td>84348301</td>\n",
       "      <td>M</td>\n",
       "      <td>11.42</td>\n",
       "      <td>20.38</td>\n",
       "      <td>77.58</td>\n",
       "      <td>386.1</td>\n",
       "      <td>0.14250</td>\n",
       "      <td>0.28390</td>\n",
       "      <td>0.2414</td>\n",
       "      <td>0.10520</td>\n",
       "      <td>...</td>\n",
       "      <td>26.50</td>\n",
       "      <td>98.87</td>\n",
       "      <td>567.7</td>\n",
       "      <td>0.2098</td>\n",
       "      <td>0.8663</td>\n",
       "      <td>0.6869</td>\n",
       "      <td>0.2575</td>\n",
       "      <td>0.6638</td>\n",
       "      <td>0.17300</td>\n",
       "      <td>NaN</td>\n",
       "    </tr>\n",
       "    <tr>\n",
       "      <th>4</th>\n",
       "      <td>84358402</td>\n",
       "      <td>M</td>\n",
       "      <td>20.29</td>\n",
       "      <td>14.34</td>\n",
       "      <td>135.10</td>\n",
       "      <td>1297.0</td>\n",
       "      <td>0.10030</td>\n",
       "      <td>0.13280</td>\n",
       "      <td>0.1980</td>\n",
       "      <td>0.10430</td>\n",
       "      <td>...</td>\n",
       "      <td>16.67</td>\n",
       "      <td>152.20</td>\n",
       "      <td>1575.0</td>\n",
       "      <td>0.1374</td>\n",
       "      <td>0.2050</td>\n",
       "      <td>0.4000</td>\n",
       "      <td>0.1625</td>\n",
       "      <td>0.2364</td>\n",
       "      <td>0.07678</td>\n",
       "      <td>NaN</td>\n",
       "    </tr>\n",
       "  </tbody>\n",
       "</table>\n",
       "<p>5 rows × 33 columns</p>\n",
       "</div>"
      ],
      "text/plain": [
       "         id diagnosis  radius_mean  texture_mean  perimeter_mean  area_mean  \\\n",
       "0    842302         M        17.99         10.38          122.80     1001.0   \n",
       "1    842517         M        20.57         17.77          132.90     1326.0   \n",
       "2  84300903         M        19.69         21.25          130.00     1203.0   \n",
       "3  84348301         M        11.42         20.38           77.58      386.1   \n",
       "4  84358402         M        20.29         14.34          135.10     1297.0   \n",
       "\n",
       "   smoothness_mean  compactness_mean  concavity_mean  concave points_mean  \\\n",
       "0          0.11840           0.27760          0.3001              0.14710   \n",
       "1          0.08474           0.07864          0.0869              0.07017   \n",
       "2          0.10960           0.15990          0.1974              0.12790   \n",
       "3          0.14250           0.28390          0.2414              0.10520   \n",
       "4          0.10030           0.13280          0.1980              0.10430   \n",
       "\n",
       "   ...  texture_worst  perimeter_worst  area_worst  smoothness_worst  \\\n",
       "0  ...          17.33           184.60      2019.0            0.1622   \n",
       "1  ...          23.41           158.80      1956.0            0.1238   \n",
       "2  ...          25.53           152.50      1709.0            0.1444   \n",
       "3  ...          26.50            98.87       567.7            0.2098   \n",
       "4  ...          16.67           152.20      1575.0            0.1374   \n",
       "\n",
       "   compactness_worst  concavity_worst  concave points_worst  symmetry_worst  \\\n",
       "0             0.6656           0.7119                0.2654          0.4601   \n",
       "1             0.1866           0.2416                0.1860          0.2750   \n",
       "2             0.4245           0.4504                0.2430          0.3613   \n",
       "3             0.8663           0.6869                0.2575          0.6638   \n",
       "4             0.2050           0.4000                0.1625          0.2364   \n",
       "\n",
       "   fractal_dimension_worst  Unnamed: 32  \n",
       "0                  0.11890          NaN  \n",
       "1                  0.08902          NaN  \n",
       "2                  0.08758          NaN  \n",
       "3                  0.17300          NaN  \n",
       "4                  0.07678          NaN  \n",
       "\n",
       "[5 rows x 33 columns]"
      ]
     },
     "execution_count": 10,
     "metadata": {},
     "output_type": "execute_result"
    }
   ],
   "source": [
    "dataset.head()"
   ]
  },
  {
   "cell_type": "code",
   "execution_count": 11,
   "metadata": {
    "colab": {
     "base_uri": "https://localhost:8080/",
     "height": 1000
    },
    "colab_type": "code",
    "id": "Qq7cE2Pkim_K",
    "outputId": "913b37c2-07ff-44ec-d5a2-d50b0686933b"
   },
   "outputs": [
    {
     "name": "stderr",
     "output_type": "stream",
     "text": [
      "W0615 17:50:22.245985 16292 deprecation_wrapper.py:119] From C:\\Users\\MritunjayChoubey\\Anaconda3\\lib\\site-packages\\keras\\backend\\tensorflow_backend.py:422: The name tf.global_variables is deprecated. Please use tf.compat.v1.global_variables instead.\n",
      "\n"
     ]
    },
    {
     "name": "stdout",
     "output_type": "stream",
     "text": [
      "Epoch 1/200\n",
      "455/455 [==============================] - 1s 2ms/step - loss: 0.6892 - accuracy: 0.6264\n",
      "Epoch 2/200\n",
      "455/455 [==============================] - 0s 278us/step - loss: 0.6583 - accuracy: 0.7495\n",
      "Epoch 3/200\n",
      "455/455 [==============================] - 0s 273us/step - loss: 0.5494 - accuracy: 0.9319\n",
      "Epoch 4/200\n",
      "455/455 [==============================] - 0s 294us/step - loss: 0.3844 - accuracy: 0.9516\n",
      "Epoch 5/200\n",
      "455/455 [==============================] - 0s 289us/step - loss: 0.2614 - accuracy: 0.9451\n",
      "Epoch 6/200\n",
      "455/455 [==============================] - 0s 322us/step - loss: 0.1933 - accuracy: 0.9516\n",
      "Epoch 7/200\n",
      "455/455 [==============================] - 0s 301us/step - loss: 0.1532 - accuracy: 0.9604\n",
      "Epoch 8/200\n",
      "455/455 [==============================] - 0s 282us/step - loss: 0.1283 - accuracy: 0.9648\n",
      "Epoch 9/200\n",
      "455/455 [==============================] - 0s 261us/step - loss: 0.1117 - accuracy: 0.9736\n",
      "Epoch 10/200\n",
      "455/455 [==============================] - 0s 238us/step - loss: 0.1018 - accuracy: 0.9780\n",
      "Epoch 11/200\n",
      "455/455 [==============================] - 0s 468us/step - loss: 0.0934 - accuracy: 0.9780\n",
      "Epoch 12/200\n",
      "455/455 [==============================] - 0s 479us/step - loss: 0.0876 - accuracy: 0.9824\n",
      "Epoch 13/200\n",
      "455/455 [==============================] - 0s 534us/step - loss: 0.0830 - accuracy: 0.9824\n",
      "Epoch 14/200\n",
      "455/455 [==============================] - 0s 500us/step - loss: 0.0792 - accuracy: 0.9824\n",
      "Epoch 15/200\n",
      "455/455 [==============================] - 0s 539us/step - loss: 0.0769 - accuracy: 0.9824\n",
      "Epoch 16/200\n",
      "455/455 [==============================] - 0s 539us/step - loss: 0.0737 - accuracy: 0.9846\n",
      "Epoch 17/200\n",
      "455/455 [==============================] - 0s 484us/step - loss: 0.0713 - accuracy: 0.9846\n",
      "Epoch 18/200\n",
      "455/455 [==============================] - 0s 458us/step - loss: 0.0687 - accuracy: 0.9846\n",
      "Epoch 19/200\n",
      "455/455 [==============================] - 0s 452us/step - loss: 0.0673 - accuracy: 0.9846\n",
      "Epoch 20/200\n",
      "455/455 [==============================] - 0s 487us/step - loss: 0.0653 - accuracy: 0.9846\n",
      "Epoch 21/200\n",
      "455/455 [==============================] - 0s 531us/step - loss: 0.0637 - accuracy: 0.9846\n",
      "Epoch 22/200\n",
      "455/455 [==============================] - 0s 518us/step - loss: 0.0626 - accuracy: 0.9846\n",
      "Epoch 23/200\n",
      "455/455 [==============================] - 0s 453us/step - loss: 0.0613 - accuracy: 0.9846\n",
      "Epoch 24/200\n",
      "455/455 [==============================] - 0s 459us/step - loss: 0.0602 - accuracy: 0.9846\n",
      "Epoch 25/200\n",
      "455/455 [==============================] - 0s 474us/step - loss: 0.0594 - accuracy: 0.98460s - loss: 0.0619 - accuracy: 0.98\n",
      "Epoch 26/200\n",
      "455/455 [==============================] - 0s 477us/step - loss: 0.0587 - accuracy: 0.9846\n",
      "Epoch 27/200\n",
      "455/455 [==============================] - 0s 489us/step - loss: 0.0571 - accuracy: 0.9846\n",
      "Epoch 28/200\n",
      "455/455 [==============================] - 0s 388us/step - loss: 0.0566 - accuracy: 0.9846\n",
      "Epoch 29/200\n",
      "455/455 [==============================] - 0s 226us/step - loss: 0.0554 - accuracy: 0.9846\n",
      "Epoch 30/200\n",
      "455/455 [==============================] - 0s 325us/step - loss: 0.0548 - accuracy: 0.9846\n",
      "Epoch 31/200\n",
      "455/455 [==============================] - 0s 460us/step - loss: 0.0541 - accuracy: 0.9846\n",
      "Epoch 32/200\n",
      "455/455 [==============================] - 0s 571us/step - loss: 0.0533 - accuracy: 0.9846\n",
      "Epoch 33/200\n",
      "455/455 [==============================] - 0s 285us/step - loss: 0.0523 - accuracy: 0.9890\n",
      "Epoch 34/200\n",
      "455/455 [==============================] - 0s 382us/step - loss: 0.0515 - accuracy: 0.9868\n",
      "Epoch 35/200\n",
      "455/455 [==============================] - 0s 337us/step - loss: 0.0510 - accuracy: 0.9890\n",
      "Epoch 36/200\n",
      "455/455 [==============================] - 0s 296us/step - loss: 0.0508 - accuracy: 0.9890\n",
      "Epoch 37/200\n",
      "455/455 [==============================] - 0s 309us/step - loss: 0.0498 - accuracy: 0.9890\n",
      "Epoch 38/200\n",
      "455/455 [==============================] - 0s 291us/step - loss: 0.0490 - accuracy: 0.9890\n",
      "Epoch 39/200\n",
      "455/455 [==============================] - 0s 297us/step - loss: 0.0483 - accuracy: 0.9890\n",
      "Epoch 40/200\n",
      "455/455 [==============================] - 0s 262us/step - loss: 0.0478 - accuracy: 0.9890\n",
      "Epoch 41/200\n",
      "455/455 [==============================] - 0s 290us/step - loss: 0.0476 - accuracy: 0.9890\n",
      "Epoch 42/200\n",
      "455/455 [==============================] - 0s 295us/step - loss: 0.0465 - accuracy: 0.9890\n",
      "Epoch 43/200\n",
      "455/455 [==============================] - 0s 322us/step - loss: 0.0461 - accuracy: 0.9890\n",
      "Epoch 44/200\n",
      "455/455 [==============================] - 0s 344us/step - loss: 0.0455 - accuracy: 0.9890\n",
      "Epoch 45/200\n",
      "455/455 [==============================] - 0s 456us/step - loss: 0.0448 - accuracy: 0.9890\n",
      "Epoch 46/200\n",
      "455/455 [==============================] - 0s 231us/step - loss: 0.0443 - accuracy: 0.9890\n",
      "Epoch 47/200\n",
      "455/455 [==============================] - 0s 495us/step - loss: 0.0445 - accuracy: 0.9890\n",
      "Epoch 48/200\n",
      "455/455 [==============================] - 0s 479us/step - loss: 0.0427 - accuracy: 0.9890\n",
      "Epoch 49/200\n",
      "455/455 [==============================] - 0s 480us/step - loss: 0.0425 - accuracy: 0.9890\n",
      "Epoch 50/200\n",
      "455/455 [==============================] - 0s 493us/step - loss: 0.0417 - accuracy: 0.9890\n",
      "Epoch 51/200\n",
      "455/455 [==============================] - 0s 505us/step - loss: 0.0413 - accuracy: 0.9890\n",
      "Epoch 52/200\n",
      "455/455 [==============================] - 0s 438us/step - loss: 0.0409 - accuracy: 0.9890\n",
      "Epoch 53/200\n",
      "455/455 [==============================] - 0s 374us/step - loss: 0.0398 - accuracy: 0.9890\n",
      "Epoch 54/200\n",
      "455/455 [==============================] - 0s 242us/step - loss: 0.0397 - accuracy: 0.9890\n",
      "Epoch 55/200\n",
      "455/455 [==============================] - 0s 210us/step - loss: 0.0388 - accuracy: 0.9890\n",
      "Epoch 56/200\n",
      "455/455 [==============================] - 0s 408us/step - loss: 0.0386 - accuracy: 0.9890\n",
      "Epoch 57/200\n",
      "455/455 [==============================] - 0s 424us/step - loss: 0.0378 - accuracy: 0.9890\n",
      "Epoch 58/200\n",
      "455/455 [==============================] - 0s 439us/step - loss: 0.0374 - accuracy: 0.9890\n",
      "Epoch 59/200\n",
      "455/455 [==============================] - 0s 413us/step - loss: 0.0374 - accuracy: 0.9912\n",
      "Epoch 60/200\n",
      "455/455 [==============================] - 0s 495us/step - loss: 0.0362 - accuracy: 0.9890\n",
      "Epoch 61/200\n",
      "455/455 [==============================] - 0s 256us/step - loss: 0.0357 - accuracy: 0.9890\n",
      "Epoch 62/200\n",
      "455/455 [==============================] - 0s 276us/step - loss: 0.0353 - accuracy: 0.9912\n",
      "Epoch 63/200\n",
      "455/455 [==============================] - 0s 393us/step - loss: 0.0349 - accuracy: 0.9890\n",
      "Epoch 64/200\n",
      "455/455 [==============================] - 0s 426us/step - loss: 0.0347 - accuracy: 0.9912\n",
      "Epoch 65/200\n",
      "455/455 [==============================] - 0s 210us/step - loss: 0.0342 - accuracy: 0.9890\n",
      "Epoch 66/200\n",
      "455/455 [==============================] - 0s 184us/step - loss: 0.0336 - accuracy: 0.9890\n",
      "Epoch 67/200\n",
      "455/455 [==============================] - 0s 185us/step - loss: 0.0329 - accuracy: 0.9912\n",
      "Epoch 68/200\n",
      "455/455 [==============================] - 0s 293us/step - loss: 0.0325 - accuracy: 0.9912\n",
      "Epoch 69/200\n",
      "455/455 [==============================] - 0s 401us/step - loss: 0.0318 - accuracy: 0.9912\n",
      "Epoch 70/200\n",
      "455/455 [==============================] - 0s 327us/step - loss: 0.0314 - accuracy: 0.9912\n",
      "Epoch 71/200\n",
      "455/455 [==============================] - 0s 292us/step - loss: 0.0310 - accuracy: 0.9912\n",
      "Epoch 72/200\n",
      "455/455 [==============================] - 0s 252us/step - loss: 0.0307 - accuracy: 0.9912\n",
      "Epoch 73/200\n",
      "455/455 [==============================] - 0s 297us/step - loss: 0.0306 - accuracy: 0.9890\n",
      "Epoch 74/200\n",
      "455/455 [==============================] - 0s 274us/step - loss: 0.0299 - accuracy: 0.9912\n",
      "Epoch 75/200\n",
      "455/455 [==============================] - 0s 329us/step - loss: 0.0295 - accuracy: 0.9912\n",
      "Epoch 76/200\n",
      "455/455 [==============================] - 0s 272us/step - loss: 0.0288 - accuracy: 0.9912\n",
      "Epoch 77/200\n",
      "455/455 [==============================] - 0s 257us/step - loss: 0.0284 - accuracy: 0.9912\n",
      "Epoch 78/200\n",
      "455/455 [==============================] - 0s 227us/step - loss: 0.0276 - accuracy: 0.9912\n",
      "Epoch 79/200\n"
     ]
    },
    {
     "name": "stdout",
     "output_type": "stream",
     "text": [
      "455/455 [==============================] - 0s 266us/step - loss: 0.0273 - accuracy: 0.9912\n",
      "Epoch 80/200\n",
      "455/455 [==============================] - 0s 259us/step - loss: 0.0268 - accuracy: 0.9912\n",
      "Epoch 81/200\n",
      "455/455 [==============================] - 0s 241us/step - loss: 0.0269 - accuracy: 0.9912\n",
      "Epoch 82/200\n",
      "455/455 [==============================] - 0s 346us/step - loss: 0.0265 - accuracy: 0.9912\n",
      "Epoch 83/200\n",
      "455/455 [==============================] - 0s 478us/step - loss: 0.0264 - accuracy: 0.9912\n",
      "Epoch 84/200\n",
      "455/455 [==============================] - 0s 458us/step - loss: 0.0253 - accuracy: 0.9912\n",
      "Epoch 85/200\n",
      "455/455 [==============================] - 0s 251us/step - loss: 0.0244 - accuracy: 0.9912\n",
      "Epoch 86/200\n",
      "455/455 [==============================] - 0s 323us/step - loss: 0.0235 - accuracy: 0.9912\n",
      "Epoch 87/200\n",
      "455/455 [==============================] - 0s 425us/step - loss: 0.0232 - accuracy: 0.9912\n",
      "Epoch 88/200\n",
      "455/455 [==============================] - 0s 296us/step - loss: 0.0225 - accuracy: 0.9912\n",
      "Epoch 89/200\n",
      "455/455 [==============================] - 0s 409us/step - loss: 0.0227 - accuracy: 0.9912\n",
      "Epoch 90/200\n",
      "455/455 [==============================] - 0s 444us/step - loss: 0.0217 - accuracy: 0.9912\n",
      "Epoch 91/200\n",
      "455/455 [==============================] - 0s 371us/step - loss: 0.0216 - accuracy: 0.9912\n",
      "Epoch 92/200\n",
      "455/455 [==============================] - 0s 305us/step - loss: 0.0204 - accuracy: 0.9912\n",
      "Epoch 93/200\n",
      "455/455 [==============================] - 0s 404us/step - loss: 0.0198 - accuracy: 0.9912\n",
      "Epoch 94/200\n",
      "455/455 [==============================] - 0s 401us/step - loss: 0.0191 - accuracy: 0.9912\n",
      "Epoch 95/200\n",
      "455/455 [==============================] - 0s 403us/step - loss: 0.0188 - accuracy: 0.9912\n",
      "Epoch 96/200\n",
      "455/455 [==============================] - 0s 432us/step - loss: 0.0186 - accuracy: 0.9912\n",
      "Epoch 97/200\n",
      "455/455 [==============================] - 0s 411us/step - loss: 0.0185 - accuracy: 0.9912\n",
      "Epoch 98/200\n",
      "455/455 [==============================] - 0s 392us/step - loss: 0.0173 - accuracy: 0.9934\n",
      "Epoch 99/200\n",
      "455/455 [==============================] - 0s 393us/step - loss: 0.0175 - accuracy: 0.9934\n",
      "Epoch 100/200\n",
      "455/455 [==============================] - 0s 456us/step - loss: 0.0166 - accuracy: 0.9934\n",
      "Epoch 101/200\n",
      "455/455 [==============================] - 0s 245us/step - loss: 0.0163 - accuracy: 0.9934\n",
      "Epoch 102/200\n",
      "455/455 [==============================] - 0s 404us/step - loss: 0.0161 - accuracy: 0.9934\n",
      "Epoch 103/200\n",
      "455/455 [==============================] - 0s 360us/step - loss: 0.0160 - accuracy: 0.9934\n",
      "Epoch 104/200\n",
      "455/455 [==============================] - 0s 378us/step - loss: 0.0154 - accuracy: 0.9934\n",
      "Epoch 105/200\n",
      "455/455 [==============================] - 0s 466us/step - loss: 0.0153 - accuracy: 0.9934\n",
      "Epoch 106/200\n",
      "455/455 [==============================] - 0s 301us/step - loss: 0.0149 - accuracy: 0.9934\n",
      "Epoch 107/200\n",
      "455/455 [==============================] - 0s 279us/step - loss: 0.0141 - accuracy: 0.9956\n",
      "Epoch 108/200\n",
      "455/455 [==============================] - 0s 294us/step - loss: 0.0141 - accuracy: 0.9934\n",
      "Epoch 109/200\n",
      "455/455 [==============================] - 0s 341us/step - loss: 0.0134 - accuracy: 0.9956\n",
      "Epoch 110/200\n",
      "455/455 [==============================] - ETA: 0s - loss: 0.0151 - accuracy: 0.9947 - 0s 280us/step - loss: 0.0137 - accuracy: 0.9956\n",
      "Epoch 111/200\n",
      "455/455 [==============================] - 0s 274us/step - loss: 0.0130 - accuracy: 0.9956\n",
      "Epoch 112/200\n",
      "455/455 [==============================] - 0s 270us/step - loss: 0.0131 - accuracy: 0.9956\n",
      "Epoch 113/200\n",
      "455/455 [==============================] - 0s 270us/step - loss: 0.0124 - accuracy: 0.9956\n",
      "Epoch 114/200\n",
      "455/455 [==============================] - 0s 286us/step - loss: 0.0121 - accuracy: 0.9956\n",
      "Epoch 115/200\n",
      "455/455 [==============================] - 0s 292us/step - loss: 0.0118 - accuracy: 0.9956\n",
      "Epoch 116/200\n",
      "455/455 [==============================] - 0s 257us/step - loss: 0.0118 - accuracy: 0.9956\n",
      "Epoch 117/200\n",
      "455/455 [==============================] - 0s 287us/step - loss: 0.0108 - accuracy: 0.9978\n",
      "Epoch 118/200\n",
      "455/455 [==============================] - 0s 400us/step - loss: 0.0116 - accuracy: 0.9956\n",
      "Epoch 119/200\n",
      "455/455 [==============================] - 0s 386us/step - loss: 0.0112 - accuracy: 0.9956\n",
      "Epoch 120/200\n",
      "455/455 [==============================] - 0s 379us/step - loss: 0.0107 - accuracy: 0.9978\n",
      "Epoch 121/200\n",
      "455/455 [==============================] - 0s 427us/step - loss: 0.0103 - accuracy: 0.9978\n",
      "Epoch 122/200\n",
      "455/455 [==============================] - 0s 501us/step - loss: 0.0101 - accuracy: 0.9978\n",
      "Epoch 123/200\n",
      "455/455 [==============================] - 0s 435us/step - loss: 0.0097 - accuracy: 0.9978\n",
      "Epoch 124/200\n",
      "455/455 [==============================] - 0s 338us/step - loss: 0.0094 - accuracy: 0.9978\n",
      "Epoch 125/200\n",
      "455/455 [==============================] - 0s 233us/step - loss: 0.0092 - accuracy: 0.9978\n",
      "Epoch 126/200\n",
      "455/455 [==============================] - 0s 303us/step - loss: 0.0092 - accuracy: 0.9978\n",
      "Epoch 127/200\n",
      "455/455 [==============================] - 0s 438us/step - loss: 0.0090 - accuracy: 0.9978\n",
      "Epoch 128/200\n",
      "455/455 [==============================] - 0s 365us/step - loss: 0.0085 - accuracy: 0.9978\n",
      "Epoch 129/200\n",
      "455/455 [==============================] - 0s 260us/step - loss: 0.0086 - accuracy: 0.9978\n",
      "Epoch 130/200\n",
      "455/455 [==============================] - 0s 398us/step - loss: 0.0082 - accuracy: 0.9978\n",
      "Epoch 131/200\n",
      "455/455 [==============================] - 0s 399us/step - loss: 0.0080 - accuracy: 0.9978\n",
      "Epoch 132/200\n",
      "455/455 [==============================] - 0s 384us/step - loss: 0.0077 - accuracy: 0.9978\n",
      "Epoch 133/200\n",
      "455/455 [==============================] - 0s 370us/step - loss: 0.0075 - accuracy: 0.9978\n",
      "Epoch 134/200\n",
      "455/455 [==============================] - 0s 344us/step - loss: 0.0075 - accuracy: 0.9978\n",
      "Epoch 135/200\n",
      "455/455 [==============================] - 0s 237us/step - loss: 0.0072 - accuracy: 0.9978\n",
      "Epoch 136/200\n",
      "455/455 [==============================] - 0s 470us/step - loss: 0.0069 - accuracy: 0.9978\n",
      "Epoch 137/200\n",
      "455/455 [==============================] - 0s 400us/step - loss: 0.0066 - accuracy: 0.9978\n",
      "Epoch 138/200\n",
      "455/455 [==============================] - 0s 369us/step - loss: 0.0066 - accuracy: 0.9978\n",
      "Epoch 139/200\n",
      "455/455 [==============================] - 0s 363us/step - loss: 0.0067 - accuracy: 0.9978\n",
      "Epoch 140/200\n",
      "455/455 [==============================] - 0s 353us/step - loss: 0.0068 - accuracy: 1.0000\n",
      "Epoch 141/200\n",
      "455/455 [==============================] - 0s 471us/step - loss: 0.0063 - accuracy: 1.0000\n",
      "Epoch 142/200\n",
      "455/455 [==============================] - 0s 500us/step - loss: 0.0059 - accuracy: 1.0000\n",
      "Epoch 143/200\n",
      "455/455 [==============================] - 0s 381us/step - loss: 0.0058 - accuracy: 1.0000\n",
      "Epoch 144/200\n",
      "455/455 [==============================] - 0s 324us/step - loss: 0.0055 - accuracy: 1.0000\n",
      "Epoch 145/200\n",
      "455/455 [==============================] - 0s 281us/step - loss: 0.0054 - accuracy: 1.0000\n",
      "Epoch 146/200\n",
      "455/455 [==============================] - 0s 253us/step - loss: 0.0052 - accuracy: 1.0000\n",
      "Epoch 147/200\n",
      "455/455 [==============================] - 0s 273us/step - loss: 0.0059 - accuracy: 1.0000\n",
      "Epoch 148/200\n",
      "455/455 [==============================] - 0s 310us/step - loss: 0.0048 - accuracy: 1.0000\n",
      "Epoch 149/200\n",
      "455/455 [==============================] - 0s 280us/step - loss: 0.0049 - accuracy: 1.0000\n",
      "Epoch 150/200\n",
      "455/455 [==============================] - 0s 276us/step - loss: 0.0046 - accuracy: 1.0000\n",
      "Epoch 151/200\n",
      "455/455 [==============================] - 0s 260us/step - loss: 0.0044 - accuracy: 1.0000\n",
      "Epoch 152/200\n",
      "455/455 [==============================] - 0s 262us/step - loss: 0.0043 - accuracy: 1.0000\n",
      "Epoch 153/200\n",
      "455/455 [==============================] - 0s 254us/step - loss: 0.0042 - accuracy: 1.0000\n",
      "Epoch 154/200\n",
      "455/455 [==============================] - 0s 255us/step - loss: 0.0040 - accuracy: 1.0000\n",
      "Epoch 155/200\n",
      "455/455 [==============================] - 0s 234us/step - loss: 0.0041 - accuracy: 1.0000\n",
      "Epoch 156/200\n"
     ]
    },
    {
     "name": "stdout",
     "output_type": "stream",
     "text": [
      "455/455 [==============================] - 0s 306us/step - loss: 0.0039 - accuracy: 1.0000\n",
      "Epoch 157/200\n",
      "455/455 [==============================] - 0s 368us/step - loss: 0.0040 - accuracy: 1.0000\n",
      "Epoch 158/200\n",
      "455/455 [==============================] - 0s 515us/step - loss: 0.0038 - accuracy: 1.0000\n",
      "Epoch 159/200\n",
      "455/455 [==============================] - 0s 455us/step - loss: 0.0036 - accuracy: 1.0000\n",
      "Epoch 160/200\n",
      "455/455 [==============================] - 0s 314us/step - loss: 0.0037 - accuracy: 1.0000\n",
      "Epoch 161/200\n",
      "455/455 [==============================] - 0s 213us/step - loss: 0.0033 - accuracy: 1.0000\n",
      "Epoch 162/200\n",
      "455/455 [==============================] - 0s 222us/step - loss: 0.0031 - accuracy: 1.0000\n",
      "Epoch 163/200\n",
      "455/455 [==============================] - 0s 240us/step - loss: 0.0030 - accuracy: 1.0000\n",
      "Epoch 164/200\n",
      "455/455 [==============================] - 0s 220us/step - loss: 0.0028 - accuracy: 1.0000\n",
      "Epoch 165/200\n",
      "455/455 [==============================] - 0s 238us/step - loss: 0.0029 - accuracy: 1.0000\n",
      "Epoch 166/200\n",
      "455/455 [==============================] - 0s 253us/step - loss: 0.0030 - accuracy: 1.0000\n",
      "Epoch 167/200\n",
      "455/455 [==============================] - 0s 233us/step - loss: 0.0027 - accuracy: 1.0000\n",
      "Epoch 168/200\n",
      "455/455 [==============================] - 0s 223us/step - loss: 0.0027 - accuracy: 1.0000\n",
      "Epoch 169/200\n",
      "455/455 [==============================] - 0s 227us/step - loss: 0.0024 - accuracy: 1.0000\n",
      "Epoch 170/200\n",
      "455/455 [==============================] - 0s 201us/step - loss: 0.0024 - accuracy: 1.0000\n",
      "Epoch 171/200\n",
      "455/455 [==============================] - 0s 220us/step - loss: 0.0026 - accuracy: 1.0000\n",
      "Epoch 172/200\n",
      "455/455 [==============================] - 0s 209us/step - loss: 0.0023 - accuracy: 1.0000\n",
      "Epoch 173/200\n",
      "455/455 [==============================] - 0s 204us/step - loss: 0.0022 - accuracy: 1.0000\n",
      "Epoch 174/200\n",
      "455/455 [==============================] - 0s 203us/step - loss: 0.0023 - accuracy: 1.0000\n",
      "Epoch 175/200\n",
      "455/455 [==============================] - 0s 204us/step - loss: 0.0020 - accuracy: 1.0000\n",
      "Epoch 176/200\n",
      "455/455 [==============================] - 0s 200us/step - loss: 0.0019 - accuracy: 1.0000\n",
      "Epoch 177/200\n",
      "455/455 [==============================] - 0s 217us/step - loss: 0.0019 - accuracy: 1.0000\n",
      "Epoch 178/200\n",
      "455/455 [==============================] - 0s 222us/step - loss: 0.0018 - accuracy: 1.0000\n",
      "Epoch 179/200\n",
      "455/455 [==============================] - 0s 223us/step - loss: 0.0018 - accuracy: 1.0000\n",
      "Epoch 180/200\n",
      "455/455 [==============================] - 0s 221us/step - loss: 0.0017 - accuracy: 1.0000\n",
      "Epoch 181/200\n",
      "455/455 [==============================] - 0s 221us/step - loss: 0.0018 - accuracy: 1.0000\n",
      "Epoch 182/200\n",
      "455/455 [==============================] - 0s 234us/step - loss: 0.0017 - accuracy: 1.0000\n",
      "Epoch 183/200\n",
      "455/455 [==============================] - 0s 236us/step - loss: 0.0016 - accuracy: 1.0000\n",
      "Epoch 184/200\n",
      "455/455 [==============================] - 0s 221us/step - loss: 0.0016 - accuracy: 1.0000\n",
      "Epoch 185/200\n",
      "455/455 [==============================] - 0s 222us/step - loss: 0.0015 - accuracy: 1.0000\n",
      "Epoch 186/200\n",
      "455/455 [==============================] - 0s 232us/step - loss: 0.0015 - accuracy: 1.0000\n",
      "Epoch 187/200\n",
      "455/455 [==============================] - 0s 234us/step - loss: 0.0014 - accuracy: 1.0000\n",
      "Epoch 188/200\n",
      "455/455 [==============================] - 0s 225us/step - loss: 0.0014 - accuracy: 1.0000\n",
      "Epoch 189/200\n",
      "455/455 [==============================] - 0s 236us/step - loss: 0.0014 - accuracy: 1.0000\n",
      "Epoch 190/200\n",
      "455/455 [==============================] - 0s 220us/step - loss: 0.0013 - accuracy: 1.0000\n",
      "Epoch 191/200\n",
      "455/455 [==============================] - 0s 205us/step - loss: 0.0013 - accuracy: 1.0000\n",
      "Epoch 192/200\n",
      "455/455 [==============================] - 0s 277us/step - loss: 0.0013 - accuracy: 1.0000\n",
      "Epoch 193/200\n",
      "455/455 [==============================] - 0s 267us/step - loss: 0.0014 - accuracy: 1.0000\n",
      "Epoch 194/200\n",
      "455/455 [==============================] - 0s 278us/step - loss: 0.0012 - accuracy: 1.0000\n",
      "Epoch 195/200\n",
      "455/455 [==============================] - 0s 305us/step - loss: 0.0012 - accuracy: 1.0000\n",
      "Epoch 196/200\n",
      "455/455 [==============================] - 0s 293us/step - loss: 0.0011 - accuracy: 1.0000\n",
      "Epoch 197/200\n",
      "455/455 [==============================] - 0s 297us/step - loss: 0.0010 - accuracy: 1.0000\n",
      "Epoch 198/200\n",
      "455/455 [==============================] - 0s 302us/step - loss: 0.0010 - accuracy: 1.0000\n",
      "Epoch 199/200\n",
      "455/455 [==============================] - 0s 308us/step - loss: 0.0010 - accuracy: 1.0000\n",
      "Epoch 200/200\n",
      "455/455 [==============================] - 0s 303us/step - loss: 0.0010 - accuracy: 1.0000\n"
     ]
    },
    {
     "data": {
      "text/plain": [
       "<keras.callbacks.callbacks.History at 0x1c7b157fd08>"
      ]
     },
     "execution_count": 11,
     "metadata": {},
     "output_type": "execute_result"
    }
   ],
   "source": [
    "classifier.fit(X_train, y_train, batch_size = 10, epochs = 200)"
   ]
  },
  {
   "cell_type": "code",
   "execution_count": 12,
   "metadata": {
    "colab": {},
    "colab_type": "code",
    "id": "LkSP-LGql7qJ"
   },
   "outputs": [],
   "source": [
    "\n",
    "# Predicting the Test set results\n",
    "y_pred = classifier.predict(X_test)\n",
    "y_pred = (y_pred > 0.5)"
   ]
  },
  {
   "cell_type": "code",
   "execution_count": 13,
   "metadata": {
    "colab": {},
    "colab_type": "code",
    "id": "OerNWqEooo7J"
   },
   "outputs": [],
   "source": [
    "from sklearn.metrics import confusion_matrix\n",
    "cm = confusion_matrix(y_test, y_pred)"
   ]
  },
  {
   "cell_type": "code",
   "execution_count": 14,
   "metadata": {
    "colab": {
     "base_uri": "https://localhost:8080/",
     "height": 50
    },
    "colab_type": "code",
    "id": "CM-mJ8oRosl4",
    "outputId": "be66a1c8-8799-4eec-c6d5-8289f75426c2"
   },
   "outputs": [
    {
     "data": {
      "text/plain": [
       "array([[74,  0],\n",
       "       [ 2, 38]], dtype=int64)"
      ]
     },
     "execution_count": 14,
     "metadata": {},
     "output_type": "execute_result"
    }
   ],
   "source": [
    "cm"
   ]
  },
  {
   "cell_type": "code",
   "execution_count": 15,
   "metadata": {
    "colab": {},
    "colab_type": "code",
    "id": "DKlmnFoLotIO"
   },
   "outputs": [],
   "source": [
    "tp = cm[0][0]  \n",
    "fn = cm[0][1]  \n",
    "fp = cm[1][0] \n",
    "tn = cm[1][1]\n"
   ]
  },
  {
   "cell_type": "code",
   "execution_count": 16,
   "metadata": {
    "colab": {},
    "colab_type": "code",
    "id": "H7qvrWhFqG6v"
   },
   "outputs": [],
   "source": [
    "accuracy = (tp+tn)/(tp+tn+fp+fn)"
   ]
  },
  {
   "cell_type": "code",
   "execution_count": 17,
   "metadata": {
    "colab": {
     "base_uri": "https://localhost:8080/",
     "height": 34
    },
    "colab_type": "code",
    "id": "WVsJ-fvWxTC6",
    "outputId": "3a7f2689-0c97-4eb7-afc3-5520d25322f3"
   },
   "outputs": [
    {
     "name": "stdout",
     "output_type": "stream",
     "text": [
      "Accuracy : 98.24561403508771\n"
     ]
    }
   ],
   "source": [
    "print('Accuracy : '+ str(accuracy*100))"
   ]
  },
  {
   "cell_type": "code",
   "execution_count": 18,
   "metadata": {
    "colab": {},
    "colab_type": "code",
    "id": "Z3f1FmC369ka"
   },
   "outputs": [],
   "source": [
    "precision = tp/(tp+fp)"
   ]
  },
  {
   "cell_type": "code",
   "execution_count": 19,
   "metadata": {
    "colab": {
     "base_uri": "https://localhost:8080/",
     "height": 34
    },
    "colab_type": "code",
    "id": "QopDU0nP7HkM",
    "outputId": "9ae5cb54-d825-4838-e897-02fcef26cd62"
   },
   "outputs": [
    {
     "data": {
      "text/plain": [
       "97.36842105263158"
      ]
     },
     "execution_count": 19,
     "metadata": {},
     "output_type": "execute_result"
    }
   ],
   "source": [
    "precision*100"
   ]
  },
  {
   "cell_type": "code",
   "execution_count": 20,
   "metadata": {
    "colab": {},
    "colab_type": "code",
    "id": "jnfOs92j7Il_"
   },
   "outputs": [],
   "source": [
    "recall = tp/(tp+fn)"
   ]
  },
  {
   "cell_type": "code",
   "execution_count": 21,
   "metadata": {
    "colab": {
     "base_uri": "https://localhost:8080/",
     "height": 34
    },
    "colab_type": "code",
    "id": "6VmbIjUx7Swt",
    "outputId": "37ee53e7-767e-4bcd-d2e8-1e0b3e8eee1f"
   },
   "outputs": [
    {
     "data": {
      "text/plain": [
       "100.0"
      ]
     },
     "execution_count": 21,
     "metadata": {},
     "output_type": "execute_result"
    }
   ],
   "source": [
    "recall*100"
   ]
  },
  {
   "cell_type": "code",
   "execution_count": 22,
   "metadata": {
    "colab": {},
    "colab_type": "code",
    "id": "mK8jGnCU7TTf"
   },
   "outputs": [],
   "source": [
    "F1_Score = 2*(recall * precision) / (recall + precision)"
   ]
  },
  {
   "cell_type": "code",
   "execution_count": 23,
   "metadata": {
    "colab": {
     "base_uri": "https://localhost:8080/",
     "height": 34
    },
    "colab_type": "code",
    "id": "0WIlI07a7avC",
    "outputId": "76eb1fc9-9441-42dc-8377-5fc17dca970d"
   },
   "outputs": [
    {
     "data": {
      "text/plain": [
       "98.66666666666666"
      ]
     },
     "execution_count": 23,
     "metadata": {},
     "output_type": "execute_result"
    }
   ],
   "source": [
    "F1_Score*100"
   ]
  },
  {
   "cell_type": "code",
   "execution_count": 24,
   "metadata": {
    "colab": {},
    "colab_type": "code",
    "id": "eUPHMebJ7b9t"
   },
   "outputs": [],
   "source": []
  },
  {
   "cell_type": "code",
   "execution_count": 0,
   "metadata": {
    "colab": {},
    "colab_type": "code",
    "id": "1jT-fO7sUrhc"
   },
   "outputs": [],
   "source": []
  }
 ],
 "metadata": {
  "colab": {
   "collapsed_sections": [],
   "name": "Internship.ipynb",
   "provenance": []
  },
  "kernelspec": {
   "display_name": "Python 3",
   "language": "python",
   "name": "python3"
  },
  "language_info": {
   "codemirror_mode": {
    "name": "ipython",
    "version": 3
   },
   "file_extension": ".py",
   "mimetype": "text/x-python",
   "name": "python",
   "nbconvert_exporter": "python",
   "pygments_lexer": "ipython3",
   "version": "3.7.7"
  }
 },
 "nbformat": 4,
 "nbformat_minor": 1
}
